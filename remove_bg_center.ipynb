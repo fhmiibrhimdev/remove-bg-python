# --- Import libraries ---
from rembg import remove
from PIL import Image
import os
import matplotlib.pyplot as plt

# --- Functions ---

def remove_background(input_path, output_path):
    """
    Remove background from an image and save as PNG.
    """
    input_image = Image.open(input_path)
    output_image = remove(input_image)
    
    # Pastikan file output selalu .png
    output_path = os.path.splitext(output_path)[0] + '.png'
    output_image.save(output_path, format='PNG')
    
    return output_path

def center_image(image_path, output_path, size=(1024, 1536)):
    """
    Center the image on a transparent background and save the result.
    """
    image = Image.open(image_path).convert('RGBA')
    background = Image.new('RGBA', size, (255, 255, 255, 0))
    image.thumbnail((size[0], size[1]), Image.LANCZOS)
    pos = ((size[0] - image.width) // 2, (size[1] - image.height) // 2)
    background.paste(image, pos, mask=image)
    background.save(output_path)

def preview_image(image_path, title='Image'):
    """
    Display the image inside Jupyter Notebook.
    """
    img = Image.open(image_path)
    plt.figure(figsize=(6,6))
    plt.imshow(img)
    plt.axis('off')
    plt.title(title)
    plt.show()

def process_image(input_path, output_folder, canvas_size=(1024, 1536)):
    """
    Full process: remove background, center, and save.
    """
    os.makedirs(output_folder, exist_ok=True)
    basename = os.path.basename(input_path)
    no_bg_path = remove_background(input_path, os.path.join(output_folder, f"no_bg_{basename}"))
    final_path = os.path.join(output_folder, f"centered_{os.path.basename(no_bg_path)}")

    remove_background(input_path, no_bg_path)
    center_image(no_bg_path, final_path, size=canvas_size)

    print(f"Processed: {final_path}")
    preview_image(final_path, title=f"Result: {basename}")

# --- Example usage ---

# Path ke gambar kamu
input_image_path = 'DSC02680.png'  # ganti nama file sesuai
output_folder = 'hasil_gambar'
canvas_size = (1024, 1536)  # <-- bisa atur ukuran kanvas di sini

process_image(input_image_path, output_folder, canvas_size=canvas_size)

# Kalau mau batch banyak gambar di satu folder:
# folder_input = 'folder_gambar_input'
# for filename in os.listdir(folder_input):
#     if filename.lower().endswith(('.png', '.jpg', '.jpeg')):
#         process_image(os.path.join(folder_input, filename), output_folder, canvas_size=canvas_size)
