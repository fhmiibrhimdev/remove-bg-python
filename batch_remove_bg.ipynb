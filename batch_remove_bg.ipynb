# --- Import libraries ---
from rembg import remove
from PIL import Image
import os
import matplotlib.pyplot as plt

# --- Functions ---

def remove_background(input_path, output_path):
    """
    Remove background from an image and save as PNG.
    """
    input_image = Image.open(input_path)
    output_image = remove(input_image)

    # Pastikan file output selalu .png
    output_path = os.path.splitext(output_path)[0] + '.png'
    output_image.save(output_path, format='PNG')

    return output_path

def preview_image(image_path, title='Image'):
    """
    Display the image inside Jupyter Notebook.
    """
    img = Image.open(image_path)
    plt.figure(figsize=(6,6))
    plt.imshow(img)
    plt.axis('off')
    plt.title(title)
    plt.show()

def process_all_images(input_folder, output_folder, preview=False):
    """
    Process all images in the input_folder: remove background and save to output_folder.
    """
    os.makedirs(output_folder, exist_ok=True)

    supported_ext = ['.png', '.jpg', '.jpeg']
    files = [f for f in os.listdir(input_folder) if os.path.splitext(f)[1].lower() in supported_ext]

    if not files:
        print("No image files found in the folder.")
        return

    for filename in files:
        input_path = os.path.join(input_folder, filename)
        output_path = os.path.join(output_folder, filename)

        try:
            no_bg_path = remove_background(input_path, output_path)
            print(f"Processed: {no_bg_path}")

            if preview:
                preview_image(no_bg_path, title=f"Result: {filename}")
        except Exception as e:
            print(f"Failed to process {filename}: {e}")

# --- Example usage ---

input_folder = 'Photo'
output_folder = 'Output_rembg'

process_all_images(input_folder, output_folder, preview=False)  # Set preview=False kalau nggak mau tampilkanw
