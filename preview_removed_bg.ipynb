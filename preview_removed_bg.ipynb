# --- Import libraries ---
from rembg import remove
from PIL import Image
import os
import matplotlib.pyplot as plt

# --- Functions ---

def remove_background(input_path, output_path):
    """
    Remove background from an image and save as PNG.
    """
    input_image = Image.open(input_path)
    output_image = remove(input_image)

    # Pastikan file output selalu .png
    output_path = os.path.splitext(output_path)[0] + '.png'
    output_image.save(output_path, format='PNG')

    return output_path

def preview_image(image_path, title='Image'):
    """
    Display the image inside Jupyter Notebook.
    """
    img = Image.open(image_path)
    plt.figure(figsize=(6,6))
    plt.imshow(img)
    plt.axis('off')
    plt.title(title)
    plt.show()

def process_image(input_path, output_folder):
    """
    Process: remove background and preview.
    """
    os.makedirs(output_folder, exist_ok=True)
    basename = os.path.basename(input_path)
    no_bg_path = remove_background(input_path, os.path.join(output_folder, f"{basename}"))

    print(f"Processed: {no_bg_path}")
    preview_image(no_bg_path, title=f"Result: {basename}")

# --- Example usage ---

# Path ke gambar kamu
input_image_path = 'Photo/DSC02702.png'  # ganti nama file sesuai
output_folder = 'Output_rembg'

process_image(input_image_path, output_folder)
